{
  "nbformat": 4,
  "nbformat_minor": 0,
  "metadata": {
    "colab": {
      "provenance": []
    },
    "kernelspec": {
      "name": "python3",
      "display_name": "Python 3"
    },
    "language_info": {
      "name": "python"
    }
  },
  "cells": [
    {
      "cell_type": "code",
      "execution_count": null,
      "metadata": {
        "id": "Vf-8vNMcbfi_"
      },
      "outputs": [],
      "source": [
        "from google.colab import drive\n",
        "drive.mount('/content/drive')"
      ]
    },
    {
      "cell_type": "code",
      "source": [
        "pip install numpy\n",
        "pip install Pillow"
      ],
      "metadata": {
        "id": "u17r2dAvbr0o"
      },
      "execution_count": null,
      "outputs": []
    },
    {
      "cell_type": "code",
      "source": [
        "import os\n",
        "from keras.preprocessing.image import ImageDataGenerator\n",
        "import matplotlib.pyplot as plt\n",
        "import numpy as np\n",
        "from keras.models import Sequential\n",
        "from keras.layers import Conv2D, MaxPooling2D\n",
        "from keras.layers import Activation, Dropout, Flatten, Dense\n",
        "from keras.callbacks import ModelCheckpoint\n",
        "from keras import backend as K\n",
        "import cv2\n",
        "from google.colab.patches import cv2_imshow # render the image\n",
        "import time\n",
        "from scipy import ndimage\n",
        "import scipy"
      ],
      "metadata": {
        "id": "y6qggSlcbvu6"
      },
      "execution_count": null,
      "outputs": []
    },
    {
      "cell_type": "code",
      "source": [
        "!ls '/content/drive/MyDrive/TSR'\n",
        "train_data_dir = '/content/drive/MyDrive/TSR/Train'\n",
        "validation_data_dir = '/content/drive/MyDrive/TSR/Validate'"
      ],
      "metadata": {
        "id": "aXzCtaz5b3Sg"
      },
      "execution_count": null,
      "outputs": []
    },
    {
      "cell_type": "code",
      "source": [
        "# Specify the directory containing the images\n",
        "directory = '/content/drive/MyDrive/TSR/Train/NoUturn'\n",
        "\n",
        "# Get a list of all the image files in the directory\n",
        "image_files = [f for f in os.listdir(directory) if f.endswith('.jpg') or f.endswith('.png')]\n",
        "\n",
        "# Set the number of images per row\n",
        "images_per_row = 4\n",
        "\n",
        "# Calculate the number of rows needed\n",
        "num_rows = len(image_files) // images_per_row\n",
        "if len(image_files) % images_per_row != 0:\n",
        "    num_rows += 1\n",
        "\n",
        "# Create a subplots grid with the specified number of rows and columns\n",
        "fig, axs = plt.subplots(num_rows, images_per_row, figsize=(15, 15))\n",
        "\n",
        "# Iterate over the image files and display them in a row\n",
        "for i, filename in enumerate(image_files):\n",
        "    filepath = os.path.join(directory, filename)\n",
        "\n",
        "    # Read the image\n",
        "    im = cv2.imread(filepath)\n",
        "    im = cv2.cvtColor(im, cv2.COLOR_BGR2RGB)\n",
        "\n",
        "    # Calculate the position in the subplots grid\n",
        "    row = i // images_per_row\n",
        "    col = i % images_per_row\n",
        "\n",
        "    # Display the image in the corresponding subplot\n",
        "    axs[row, col].imshow(im)\n",
        "    axs[row, col].axis('off')  # hide axis\n",
        "\n",
        "# Adjust the spacing between subplots\n",
        "plt.subplots_adjust(wspace=0.05, hspace=0.05)\n",
        "\n",
        "# Show the plot\n",
        "plt.show()"
      ],
      "metadata": {
        "id": "YXdCGGQgb6zd"
      },
      "execution_count": null,
      "outputs": []
    },
    {
      "cell_type": "code",
      "source": [
        "# Specify the directory containing the images\n",
        "directory = '/content/drive/MyDrive/TSR/Train/SpeedLimit30'\n",
        "\n",
        "# Get a list of all the image files in the directory\n",
        "image_files = [f for f in os.listdir(directory) if f.endswith('.jpg') or f.endswith('.png')]\n",
        "\n",
        "# Set the number of images per row\n",
        "images_per_row = 4\n",
        "\n",
        "# Calculate the number of rows needed\n",
        "num_rows = len(image_files) // images_per_row\n",
        "if len(image_files) % images_per_row != 0:\n",
        "    num_rows += 1\n",
        "\n",
        "# Create a subplots grid with the specified number of rows and columns\n",
        "fig, axs = plt.subplots(num_rows, images_per_row, figsize=(15, 15))\n",
        "\n",
        "# Iterate over the image files and display them in a row\n",
        "for i, filename in enumerate(image_files):\n",
        "    filepath = os.path.join(directory, filename)\n",
        "\n",
        "    # Read the image\n",
        "    im = cv2.imread(filepath)\n",
        "    im = cv2.cvtColor(im, cv2.COLOR_BGR2RGB)\n",
        "\n",
        "    # Calculate the position in the subplots grid\n",
        "    row = i // images_per_row\n",
        "    col = i % images_per_row\n",
        "\n",
        "    # Display the image in the corresponding subplot\n",
        "    axs[row, col].imshow(im)\n",
        "    axs[row, col].axis('off')  # hide axis\n",
        "\n",
        "# Adjust the spacing between subplots\n",
        "plt.subplots_adjust(wspace=0.05, hspace=0.05)\n",
        "\n",
        "# Show the plot\n",
        "plt.show()"
      ],
      "metadata": {
        "id": "L2iNNCqBcBBl"
      },
      "execution_count": null,
      "outputs": []
    },
    {
      "cell_type": "code",
      "source": [
        "# Specify the directory containing the images\n",
        "directory = '/content/drive/MyDrive/TSR/Train/Stop'\n",
        "\n",
        "# Get a list of all the image files in the directory\n",
        "image_files = [f for f in os.listdir(directory) if f.endswith('.jpg') or f.endswith('.png')]\n",
        "\n",
        "# Set the number of images per row\n",
        "images_per_row = 4\n",
        "\n",
        "# Calculate the number of rows needed\n",
        "num_rows = len(image_files) // images_per_row\n",
        "if len(image_files) % images_per_row != 0:\n",
        "    num_rows += 1\n",
        "\n",
        "# Create a subplots grid with the specified number of rows and columns\n",
        "fig, axs = plt.subplots(num_rows, images_per_row, figsize=(15, 15))\n",
        "\n",
        "# Iterate over the image files and display them in a row\n",
        "for i, filename in enumerate(image_files):\n",
        "    filepath = os.path.join(directory, filename)\n",
        "\n",
        "    # Read the image\n",
        "    im = cv2.imread(filepath)\n",
        "    im = cv2.cvtColor(im, cv2.COLOR_BGR2RGB)\n",
        "\n",
        "    # Calculate the position in the subplots grid\n",
        "    row = i // images_per_row\n",
        "    col = i % images_per_row\n",
        "\n",
        "    # Display the image in the corresponding subplot\n",
        "    axs[row, col].imshow(im)\n",
        "    axs[row, col].axis('off')  # hide axis\n",
        "\n",
        "# Adjust the spacing between subplots\n",
        "plt.subplots_adjust(wspace=0.05, hspace=0.05)\n",
        "\n",
        "# Show the plot\n",
        "plt.show()"
      ],
      "metadata": {
        "id": "kwMy6KutcFed"
      },
      "execution_count": null,
      "outputs": []
    },
    {
      "cell_type": "code",
      "source": [
        "# Specify the directory containing the images\n",
        "directory = '/content/drive/MyDrive/TSR/Train/Yield'\n",
        "\n",
        "# Get a list of all the image files in the directory\n",
        "image_files = [f for f in os.listdir(directory) if f.endswith('.jpg') or f.endswith('.png')]\n",
        "\n",
        "# Set the number of images per row\n",
        "images_per_row = 4\n",
        "\n",
        "# Calculate the number of rows needed\n",
        "num_rows = len(image_files) // images_per_row\n",
        "if len(image_files) % images_per_row != 0:\n",
        "    num_rows += 1\n",
        "\n",
        "# Create a subplots grid with the specified number of rows and columns\n",
        "fig, axs = plt.subplots(num_rows, images_per_row, figsize=(15, 15))\n",
        "\n",
        "# Iterate over the image files and display them in a row\n",
        "for i, filename in enumerate(image_files):\n",
        "    filepath = os.path.join(directory, filename)\n",
        "\n",
        "    # Read the image\n",
        "    im = cv2.imread(filepath)\n",
        "    im = cv2.cvtColor(im, cv2.COLOR_BGR2RGB)\n",
        "\n",
        "    # Calculate the position in the subplots grid\n",
        "    row = i // images_per_row\n",
        "    col = i % images_per_row\n",
        "\n",
        "    # Display the image in the corresponding subplot\n",
        "    axs[row, col].imshow(im)\n",
        "    axs[row, col].axis('off')  # hide axis\n",
        "\n",
        "# Adjust the spacing between subplots\n",
        "plt.subplots_adjust(wspace=0.05, hspace=0.05)\n",
        "\n",
        "# Show the plot\n",
        "plt.show()"
      ],
      "metadata": {
        "id": "H-kjB7CzcKiv"
      },
      "execution_count": null,
      "outputs": []
    },
    {
      "cell_type": "code",
      "source": [
        "#Model's Parameter\n",
        "img_width, img_height = 100, 100 # dimensions of our images.\n",
        "nb_train_samples = 64\n",
        "nb_validation_samples = 53\n",
        "epochs = 50\n",
        "batch_size = 10\n",
        "dim = 3\n",
        "\n",
        "# Choosing Image Format\n",
        "if K.image_data_format() == 'channels_first':\n",
        "    input_shape = (dim, img_width, img_height)\n",
        "else:\n",
        "    input_shape = (img_width, img_height, dim)"
      ],
      "metadata": {
        "id": "Lc5F3JjDcNpM"
      },
      "execution_count": null,
      "outputs": []
    },
    {
      "cell_type": "code",
      "source": [
        "def larger_model():\n",
        "    model = Sequential()\n",
        "    model.add(Conv2D(30, (5,5), input_shape=input_shape, activation='relu'))\n",
        "    model.add(MaxPooling2D(pool_size=(2,2)))\n",
        "    model.add(Conv2D(15, (3,3), activation='relu'))\n",
        "    model.add(MaxPooling2D(pool_size=(2, 2)))\n",
        "    model.add(Dropout(0.2))\n",
        "    model.add(Flatten())\n",
        "    model.add(Dense(128, activation='relu'))\n",
        "    model.add(Dense(50,activation='relu'))\n",
        "    model.add(Dense(4, activation='softmax'))\n",
        "    return model"
      ],
      "metadata": {
        "id": "9SXlARATcPKe"
      },
      "execution_count": null,
      "outputs": []
    },
    {
      "cell_type": "code",
      "source": [
        "# build the model\n",
        "model = larger_model()\n",
        "\n",
        "\n",
        "# Initialize file\n",
        "files = os.listdir(train_data_dir)\n",
        "print (files)\n",
        "\n",
        "for f in files:\n",
        "    print(f)\n",
        "\n",
        "    # Initialize file\n",
        "    animal_path = os.listdir(train_data_dir+\"/\"+f)\n",
        "    print (animal_path)\n",
        "\n",
        "    # Loop all image in file\n",
        "    for i in animal_path:\n",
        "\n",
        "        # Read an image\n",
        "        image_path = train_data_dir+\"/\"+f+\"/\"+i\n",
        "        image = cv2.imread(image_path)\n",
        "        image = np.expand_dims(image, 0)\n",
        "\n",
        "        # fit the original image\n",
        "        train_datagen.fit(image)\n",
        "\n",
        "        # Initialize save path with class name\n",
        "        save_path = save_here +\"/\"+ f\n",
        "\n",
        "        # Create folder if not exist\n",
        "        if not os.path.exists(save_path):\n",
        "            os.makedirs(save_path)\n",
        "\n",
        "        # Split original image name to get initial name\n",
        "        f_name = i.split('.')\n",
        "        f_name = f_name[0]+\"_\"+f_name[1]\n",
        "\n",
        "        # Loop to create and save 5 augmented image for 1 original image\n",
        "        for x, val in zip(train_datagen.flow(image,                    #image we chose\n",
        "            save_to_dir=save_path,     #this is where we figure out where to save\n",
        "            save_prefix=('{}_aug'.format(f_name)),        # it will save the images as 'aug_0912' some number for every new augmented image\n",
        "            save_format='jpg'),range(5)) :     # here we define a range because we want 5 augmented images otherwise it will keep looping forever\n",
        "            pass"
      ],
      "metadata": {
        "id": "D_McN7yKcVBz"
      },
      "execution_count": null,
      "outputs": []
    },
    {
      "cell_type": "code",
      "source": [
        "# Compile Model\n",
        "model.compile(optimizer='rmsprop',loss='categorical_crossentropy',metrics=['accuracy'])\n",
        "# Train Model\n",
        "history = model.fit_generator(\n",
        "    train_generator,\n",
        "    steps_per_epoch=nb_train_samples // batch_size,\n",
        "    epochs=epochs,\n",
        "    validation_data=validation_generator,\n",
        "    validation_steps=nb_validation_samples // batch_size)"
      ],
      "metadata": {
        "id": "wW-4D7pScaP3"
      },
      "execution_count": null,
      "outputs": []
    },
    {
      "cell_type": "code",
      "source": [
        "acc = history.history['accuracy']\n",
        "val_acc = history.history['val_accuracy']\n",
        "\n",
        "loss = history.history['loss']\n",
        "val_loss = history.history['val_loss']\n",
        "\n",
        "epochs_range = range(epochs)\n",
        "\n",
        "plt.figure(figsize=(8, 8))\n",
        "plt.subplot(1, 2, 1)\n",
        "plt.plot(epochs_range, acc, label='Training Accuracy')\n",
        "plt.plot(epochs_range, val_acc, label='Validation Accuracy')\n",
        "plt.legend(loc='lower right')\n",
        "plt.title('Training and Validation Accuracy')\n",
        "\n",
        "plt.subplot(1, 2, 2)\n",
        "plt.plot(epochs_range, loss, label='Training Loss')\n",
        "plt.plot(epochs_range, val_loss, label='Validation Loss')\n",
        "plt.legend(loc='upper right')\n",
        "plt.title('Training and Validation Loss')\n",
        "plt.savefig('./foo.png')\n",
        "plt.show()"
      ],
      "metadata": {
        "id": "E9lwnQRpccf2"
      },
      "execution_count": null,
      "outputs": []
    },
    {
      "cell_type": "code",
      "source": [
        "# Specify the directory containing the images\n",
        "directory = '/content/drive/MyDrive/TSR/Test'\n",
        "\n",
        "# Get a list of all the image files in the directory\n",
        "image_files = [f for f in os.listdir(directory) if f.endswith('.jpg') or f.endswith('.png')]\n",
        "\n",
        "# Iterate over the image files and perform prediction\n",
        "for filename in image_files:\n",
        "    filepath = os.path.join(directory, filename)\n",
        "\n",
        "    sign = cv2.imread(filepath)\n",
        "    cv2_imshow(sign)\n",
        "\n",
        "    # Read and preprocess the image\n",
        "    im = cv2.imread(filepath)\n",
        "    im = cv2.cvtColor(im, cv2.COLOR_BGR2RGB)\n",
        "    im = cv2.resize(im, (img_width, img_height))\n",
        "    im = np.reshape(im, [1, img_width, img_height, dim])\n",
        "\n",
        "    # Make the prediction\n",
        "    predicted_probabilities = model.predict(im)\n",
        "    predicted_labels = np.argmax(predicted_probabilities, axis=1)\n",
        "\n",
        "    # Display the prediction result\n",
        "    if predicted_labels == 0:\n",
        "        print(f\"{filename}: Predicted as No Uturn\")\n",
        "    elif predicted_labels == 1:\n",
        "        print(f\"{filename}: Predicted as 30km/h\")\n",
        "    elif predicted_labels == 2:\n",
        "        print(f\"{filename}: Predicted as Stop\")\n",
        "    elif predicted_labels == 3:\n",
        "        print(f\"{filename}: Predicted as Yield\")\n",
        "    else:\n",
        "        print(f\"{filename}: Unable to determine the prediction\")\n",
        ""
      ],
      "metadata": {
        "id": "VkO3LanIcjMW"
      },
      "execution_count": null,
      "outputs": []
    }
  ]
}
